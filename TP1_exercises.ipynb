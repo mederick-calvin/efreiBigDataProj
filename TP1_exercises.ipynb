{
 "cells": [
  {
   "cell_type": "markdown",
   "metadata": {},
   "source": [
    "# Environment reminder\n",
    "* Load Big Data virtual machine inside the VirtualBox\n",
    "* login : hduser, password : hduser\n",
    "* Launch Jupyter from shell as \"jupyter notebook\"\n",
    "* Type the python code with answers into the \"code\" cells and execute them with Ctrl-Enter\n",
    "* If a cell has star instead its number \"In [*]\" , then it is being executed"
   ]
  },
  {
   "cell_type": "markdown",
   "metadata": {},
   "source": [
    "# Introduction\n",
    "The goals for this session are multiple:\n",
    "* familiarize with the Jupyter computing environment, that is a widely used tool to develop and share data analysis and data visualization workflows. It supports several programming languages and is a relevant part of the pydata ecosystem. For more information: https://jupyter.org/\n",
    "* understand how to launch basic Python commands and check their output on screen.\n",
    "* touch on the most important Python built-in containers: lists, dictionaries and sets. Understand basic techniques to use them.\n",
    "* basic text file handling in Python\n",
    "* by combining all the techniques above you will be able to develop a simple text-processing application, "
   ]
  },
  {
   "cell_type": "markdown",
   "metadata": {},
   "source": [
    "# Exercise 1 - Print Function\n",
    "\n",
    "**Create** a function `print_my_name` that prints 'Hello \"your name\"', where \"your name\" is passed as an input parameter. The function should raise a warning if parameter passed is empty.\n",
    "\n",
    "For more documentation on formatting see Python 3 formatting at https://docs.python.org/3.1/library/string.html#format-examples."
   ]
  },
  {
   "cell_type": "code",
   "execution_count": 2,
   "metadata": {
    "collapsed": true
   },
   "outputs": [],
   "source": []
  },
  {
   "cell_type": "markdown",
   "metadata": {},
   "source": [
    "# Exercise 2 - For Loop and String Functions"
   ]
  },
  {
   "cell_type": "markdown",
   "metadata": {},
   "source": [
    "**Transform** the string `names` to a list with each element containing a name, by using the `split` function (if you don't remember how to use any function you can write `name_of_the_function?` to invoke the help.). Then, with a `for` loop, print \"Hello + name\" for each name in the list.\n"
   ]
  },
  {
   "cell_type": "code",
   "execution_count": 1,
   "metadata": {},
   "outputs": [],
   "source": [
    "names = \"Alice Bob Carol Eve Mallory Oscar\"\n",
    "#write your code here"
   ]
  },
  {
   "cell_type": "markdown",
   "metadata": {},
   "source": [
    "# To Do"
   ]
  },
  {
   "cell_type": "markdown",
   "metadata": {},
   "source": [
    "**Repeat** the exercise above, with the string `names2`. The output should be exactly the same as above."
   ]
  },
  {
   "cell_type": "code",
   "execution_count": 14,
   "metadata": {
    "collapsed": true
   },
   "outputs": [],
   "source": [
    "names2 = \"Alice;Bob.Carol;Eve.Mallory;Oscar\"\n",
    "#write your code here"
   ]
  },
  {
   "cell_type": "markdown",
   "metadata": {},
   "source": [
    "# Exercise 3 - Join function and enumerate"
   ]
  },
  {
   "cell_type": "markdown",
   "metadata": {},
   "source": [
    "**Convert**  \"Alice Bob Carol Eve Mallory Oscar\" to \"Alice;Bob;Carol;Eve;Mallory;Oscar\""
   ]
  },
  {
   "cell_type": "code",
   "execution_count": null,
   "metadata": {
    "scrolled": true
   },
   "outputs": [],
   "source": []
  },
  {
   "cell_type": "markdown",
   "metadata": {},
   "source": [
    "# To Do"
   ]
  },
  {
   "cell_type": "markdown",
   "metadata": {
    "collapsed": true
   },
   "source": [
    "**Still** for the same persons print the sequence number : Alice - 1, etc. Use the function `enumerate` and take care of the starting value for indexing."
   ]
  },
  {
   "cell_type": "code",
   "execution_count": null,
   "metadata": {
    "collapsed": true
   },
   "outputs": [],
   "source": []
  },
  {
   "cell_type": "markdown",
   "metadata": {},
   "source": [
    "# Exercice 4 - Using the dictionaries"
   ]
  },
  {
   "cell_type": "markdown",
   "metadata": {},
   "source": [
    "**Create** `dict_names_num`, that is a `dict` data structure with the names in string `names` defined above as keys and a random number as value. We will use the built-in function `random.random` and `round`"
   ]
  },
  {
   "cell_type": "code",
   "execution_count": 3,
   "metadata": {},
   "outputs": [
    {
     "data": {
      "text/plain": [
       "0.6138024449281274"
      ]
     },
     "execution_count": 3,
     "metadata": {},
     "output_type": "execute_result"
    }
   ],
   "source": [
    "import random\n",
    "random.random()\n"
   ]
  },
  {
   "cell_type": "markdown",
   "metadata": {},
   "source": [
    "# To Do"
   ]
  },
  {
   "cell_type": "markdown",
   "metadata": {},
   "source": [
    "**Try** to assign a list as a key to `dict_names_num`. Is the operation accepted? Can you describe the error?"
   ]
  },
  {
   "cell_type": "code",
   "execution_count": null,
   "metadata": {
    "collapsed": true
   },
   "outputs": [],
   "source": []
  },
  {
   "cell_type": "markdown",
   "metadata": {},
   "source": [
    "**Compare** the order by which the items (an item as the couple key+value) are shown in the dictionary to the original \n",
    "one in the list. Do they match? Explain your reply."
   ]
  },
  {
   "cell_type": "code",
   "execution_count": null,
   "metadata": {
    "collapsed": true
   },
   "outputs": [],
   "source": []
  },
  {
   "cell_type": "markdown",
   "metadata": {},
   "source": [
    "# Exercise 5 - List Comprehension"
   ]
  },
  {
   "cell_type": "markdown",
   "metadata": {},
   "source": [
    "**List** comprehension is a technique to apply the same operation to all elements in a container. In the following exercise we find the sqare root of each number in list `nums` : 1, 2,..., 10"
   ]
  },
  {
   "cell_type": "code",
   "execution_count": 13,
   "metadata": {},
   "outputs": [],
   "source": [
    "from math import sqrt\n",
    "nums = list(range(10))\n",
    "\n",
    "#add your code here"
   ]
  },
  {
   "cell_type": "markdown",
   "metadata": {},
   "source": [
    "The equivalent code without using the list comprehension would have been:"
   ]
  },
  {
   "cell_type": "code",
   "execution_count": null,
   "metadata": {
    "collapsed": true
   },
   "outputs": [],
   "source": [
    "sqrt_elems = []\n",
    "for elem in nums:\n",
    "    sqrt_elems.append( sqrt(elem) )"
   ]
  },
  {
   "cell_type": "markdown",
   "metadata": {},
   "source": [
    "Whenever possible list comprehension should be privileged as it offers a more readable, elegant and compact code."
   ]
  },
  {
   "cell_type": "markdown",
   "metadata": {},
   "source": [
    "# To Do"
   ]
  },
  {
   "cell_type": "markdown",
   "metadata": {},
   "source": [
    "**By using** the built-in function `enumerate`, compute the sqrt only for elements with indexes in even positions (0,2).\n",
    "\n",
    "Expected output:\n",
    "\n",
    "[1.0488088481701516, 2.3021728866442674]\n"
   ]
  },
  {
   "cell_type": "code",
   "execution_count": null,
   "metadata": {
    "collapsed": true
   },
   "outputs": [],
   "source": []
  },
  {
   "cell_type": "markdown",
   "metadata": {},
   "source": [
    "**By using** the built-in function `zip`, compute the square root of the sum of element at index i and element at index len(nums)-i, \n",
    "\n",
    "That is if\n",
    "\n",
    "nums = [x1,x2,x3,x4]\n",
    "\n",
    "Then:\n",
    "\n",
    "result =[ sqrt(x1+x4) , sqrt(x2+x3) , sqrt(x3+x2) , sqrt(x4+x1) ]\n",
    "\n",
    "-----\n",
    "Expected output:\n",
    "[2.2803508501982757, 2.7202941017470885, 2.7202941017470885, 2.2803508501982757]\n",
    "\n"
   ]
  },
  {
   "cell_type": "code",
   "execution_count": null,
   "metadata": {
    "collapsed": true
   },
   "outputs": [],
   "source": []
  },
  {
   "cell_type": "markdown",
   "metadata": {},
   "source": [
    "**Get** the names and random values from the previous dictionary as two separate lists"
   ]
  },
  {
   "cell_type": "code",
   "execution_count": null,
   "metadata": {},
   "outputs": [],
   "source": []
  },
  {
   "cell_type": "markdown",
   "metadata": {},
   "source": [
    "**Remove** duplicates from the following list `list_1` : a,b,c,a,b,c,d,a,v,d,s,a,b"
   ]
  },
  {
   "cell_type": "code",
   "execution_count": null,
   "metadata": {},
   "outputs": [],
   "source": []
  },
  {
   "cell_type": "markdown",
   "metadata": {},
   "source": [
    "**Find** letters which are in `x` but not in `y`: a,b,v,f,g,d,a,z,a,e,a,e,q,a,f\n",
    "(https://docs.python.org/3/library/stdtypes.html#set)"
   ]
  },
  {
   "cell_type": "code",
   "execution_count": null,
   "metadata": {},
   "outputs": [],
   "source": []
  },
  {
   "cell_type": "markdown",
   "metadata": {},
   "source": [
    "**Calculate** a list with logs, for a numeric list `1,2, ... 20` \n",
    "    https://docs.python.org/3/tutorial/datastructures.html#list-comprehensions and https://docs.python.org/3/library/math.html#math.log)"
   ]
  },
  {
   "cell_type": "code",
   "execution_count": null,
   "metadata": {},
   "outputs": [],
   "source": []
  },
  {
   "cell_type": "markdown",
   "metadata": {},
   "source": [
    "**Exclude** from the list 0,2,3, ... 99 the items divisible by 3, Using list comprehension conditional form"
   ]
  },
  {
   "cell_type": "code",
   "execution_count": null,
   "metadata": {},
   "outputs": [],
   "source": []
  },
  {
   "cell_type": "markdown",
   "metadata": {},
   "source": [
    "# Working with files, strings etc\n",
    "\n",
    "**Download** complete Shakespeare work from Gutenberg project pages(http://www.gutenberg.org/files/100/100-0.txt)\n",
    "\n",
    "\n",
    "**Review** the code below"
   ]
  },
  {
   "cell_type": "code",
   "execution_count": 22,
   "metadata": {},
   "outputs": [
    {
     "name": "stdout",
     "output_type": "stream",
     "text": [
      "﻿\n",
      "\n",
      "Project Gutenberg’s The Complete Works of William Shakespeare, by\n",
      "\n",
      "William Shakespeare\n",
      "\n"
     ]
    }
   ],
   "source": [
    "#Example of opening a file and reading lines\n",
    "with open(\"100-0.txt\",mode = \"r\",encoding=\"utf-8\") as f:\n",
    "    for i in range(3):\n",
    "        print(f.readline())"
   ]
  },
  {
   "cell_type": "markdown",
   "metadata": {},
   "source": [
    "**Exercise** Count the number of lines in the file by reading line by line"
   ]
  },
  {
   "cell_type": "code",
   "execution_count": null,
   "metadata": {},
   "outputs": [],
   "source": []
  },
  {
   "cell_type": "markdown",
   "metadata": {},
   "source": [
    "**Package** the code to calculate the number of rows in a function: calc_nr_rows( file_nm , load_into_memory) where file_nm is the name of the file to be counted the rows on and load_into_memory a boolean parameter indicating whether the file can be loaded in memory (True) or not (False). Then benchmark the function on the file 100-0.txt using the magic function %timeit. Discuss the results. Hint: you can invoke the help of %timeit with %timeit?\n",
    "        "
   ]
  },
  {
   "cell_type": "code",
   "execution_count": null,
   "metadata": {
    "collapsed": true
   },
   "outputs": [],
   "source": []
  },
  {
   "cell_type": "markdown",
   "metadata": {},
   "source": [
    "With all the facilities that we have seen so far and others that you may want to explore on the official python website but also on blogs, StackOverflow, etc. we are able to perform some basic text processing\n",
    "For example, we can calculate the number of words are in the text (a word is every string separated by whitespaces):\n",
    "\n",
    "**Exercise** Split the lines into words and calculate how many words are in the text(separated by whitespaces)"
   ]
  },
  {
   "cell_type": "code",
   "execution_count": null,
   "metadata": {},
   "outputs": [],
   "source": []
  },
  {
   "cell_type": "markdown",
   "metadata": {},
   "source": [
    "**Define** a function that returns the index of the row with the largest number of words and the row itself. Test it on the file above."
   ]
  },
  {
   "cell_type": "code",
   "execution_count": null,
   "metadata": {
    "collapsed": true
   },
   "outputs": [],
   "source": []
  },
  {
   "cell_type": "markdown",
   "metadata": {},
   "source": [
    "**Define** a function that calculates the frequency of the words\n",
    "\n",
    "While there exists a built-in implementation that does it in an efficient way (see https://docs.python.org/3/library/collections.html#collections.Counter) you'll develop your own implementation. \n",
    "\n",
    "There are several questions that you should ask yourself before writing the code \n",
    "\n",
    "* what is the expected output? \n",
    "* What is the best data structure in Python that fits my need?\n",
    "* what are the input parameters of the function? More parameters mean more flexibility but also more complexity.\n",
    "* what about the performance requirements? The function should offer a low memory footprint or the best execution time? \n",
    "* Can you compare the performance with collections.Counter?\n",
    "* how do you deal with capital letters? Stopwords? Quoting? (eg. Chair, chair, chair. are different words?)\n",
    "* how do you test the function?\n"
   ]
  },
  {
   "cell_type": "code",
   "execution_count": null,
   "metadata": {},
   "outputs": [],
   "source": []
  },
  {
   "cell_type": "markdown",
   "metadata": {},
   "source": [
    "**Exercise** Calculate the number of words containing \"cert\""
   ]
  },
  {
   "cell_type": "code",
   "execution_count": 72,
   "metadata": {},
   "outputs": [
    {
     "data": {
      "text/plain": [
       "266"
      ]
     },
     "execution_count": 72,
     "metadata": {},
     "output_type": "execute_result"
    }
   ],
   "source": [
    "\n"
   ]
  },
  {
   "cell_type": "markdown",
   "metadata": {},
   "source": [
    "**Exercise** In the work entitled \"ALLS WELL THAT ENDS WELL\" separate the text of different Acts (or Scenes)"
   ]
  },
  {
   "cell_type": "code",
   "execution_count": null,
   "metadata": {},
   "outputs": [],
   "source": []
  },
  {
   "cell_type": "markdown",
   "metadata": {},
   "source": [
    "**Exercise** In work \"ALLS WELL THAT ENDS WELL\" parse the dialogues by the character (e.g. all phrases that LAFEU said)"
   ]
  },
  {
   "cell_type": "code",
   "execution_count": null,
   "metadata": {},
   "outputs": [],
   "source": [
    "\n"
   ]
  },
  {
   "cell_type": "markdown",
   "metadata": {},
   "source": [
    "**Exercise** Calculate TF/IDF for acts and scenes througout all Shakespeare works (no usage of special modules for a moment)\n",
    "* use one of the previous exercises to split different works into small parts (acts, scenes etc)\n",
    "* every such part is now considered as a separate document\n",
    "* optional : remove stop words, like \"the\",\"a\" etc (find a list on internet)\n",
    "* calculate the TF/IDF\n",
    "    * Term frequency (TF)= Number of times a term seen in document/total number of words in document\n",
    "    * Inverse Document Frequency (IDF) = 1 + log(Total number of documents / Number of documents containing the term)\n",
    "* compare the most important words for different documents\n",
    "* how close are different works of Shakespeare if to judge by the words their parts use"
   ]
  },
  {
   "cell_type": "code",
   "execution_count": null,
   "metadata": {
    "scrolled": true
   },
   "outputs": [],
   "source": []
  },
  {
   "cell_type": "markdown",
   "metadata": {},
   "source": [
    "### Exercise\n",
    "from \"Python for Software Design, Allen B. Dowley\"\n",
    "\n",
    "**Two words** are \"rotate pairs\" if you can rotate one of them and get the other.\n",
    "\n",
    "Write a function that reads a wordlist and finds all the rotate pairs"
   ]
  },
  {
   "cell_type": "code",
   "execution_count": null,
   "metadata": {
    "collapsed": true
   },
   "outputs": [],
   "source": []
  },
  {
   "cell_type": "markdown",
   "metadata": {},
   "source": [
    "# Working with encodings\n",
    "\n",
    "* From Internet Dictionary Project ( http://www.june29.com/idp/IDPfiles.html ) download french, german, italian and portuguese dictionaries\n",
    "* read these files into Python (check the encoding)\n",
    "* replace \"a\\\" by \"à\", \"e/\" by \"é\", \"e\\\" by \"è\" etc\n",
    "* create a translation function, like : `translateWord(\"go\",\"french\") # \"aller\" `\n",
    "* Translate some story\n"
   ]
  },
  {
   "cell_type": "code",
   "execution_count": null,
   "metadata": {
    "collapsed": true
   },
   "outputs": [],
   "source": []
  },
  {
   "cell_type": "markdown",
   "metadata": {
    "collapsed": true
   },
   "source": [
    "## Pandas first steps\n",
    "\n",
    "**Run** and analyse the following code example\n"
   ]
  },
  {
   "cell_type": "code",
   "execution_count": 10,
   "metadata": {},
   "outputs": [
    {
     "name": "stdout",
     "output_type": "stream",
     "text": [
      "0    1\n",
      "1    2\n",
      "2    4\n",
      "dtype: int64\n",
      "4\n"
     ]
    },
    {
     "data": {
      "text/plain": [
       "['red', 'green', 'red', 'green']"
      ]
     },
     "execution_count": 10,
     "metadata": {},
     "output_type": "execute_result"
    }
   ],
   "source": [
    "import pandas as pd\n",
    "import random\n",
    "\n",
    "x = pd.Series([1,2,4])\n",
    "\n",
    "# random generators for the next exercise\n",
    "print (x)\n",
    "print(random.randint(1,4))\n",
    "random.choices(['red','green','other colour'],k=4)"
   ]
  },
  {
   "cell_type": "markdown",
   "metadata": {},
   "source": [
    "**Create** long (at least 10^3 elements) pandas Series of random integer numbers from 0 to 10 indexed by random colours extending the following code"
   ]
  },
  {
   "cell_type": "code",
   "execution_count": null,
   "metadata": {
    "collapsed": true
   },
   "outputs": [],
   "source": []
  },
  {
   "cell_type": "markdown",
   "metadata": {},
   "source": [
    "**Calculate** average, min, max values"
   ]
  },
  {
   "cell_type": "code",
   "execution_count": null,
   "metadata": {},
   "outputs": [],
   "source": []
  },
  {
   "cell_type": "markdown",
   "metadata": {},
   "source": [
    "**Remove** duplicates of like \"red\"->1, \"red\"->1"
   ]
  },
  {
   "cell_type": "code",
   "execution_count": null,
   "metadata": {
    "collapsed": true
   },
   "outputs": [],
   "source": []
  },
  {
   "cell_type": "markdown",
   "metadata": {},
   "source": [
    "**Count** occurrences of values and **find** unique values"
   ]
  },
  {
   "cell_type": "code",
   "execution_count": null,
   "metadata": {},
   "outputs": [],
   "source": []
  },
  {
   "cell_type": "markdown",
   "metadata": {},
   "source": [
    "**Replace** the index by integers from 0 to the Series length"
   ]
  },
  {
   "cell_type": "code",
   "execution_count": null,
   "metadata": {},
   "outputs": [],
   "source": []
  },
  {
   "cell_type": "markdown",
   "metadata": {},
   "source": [
    "**Calculate** sum, average, min etc values by colour  "
   ]
  },
  {
   "cell_type": "code",
   "execution_count": null,
   "metadata": {},
   "outputs": [],
   "source": []
  },
  {
   "cell_type": "markdown",
   "metadata": {},
   "source": [
    "**Create** a different copy similar to `x` series and concatenate them together"
   ]
  },
  {
   "cell_type": "code",
   "execution_count": null,
   "metadata": {
    "collapsed": true
   },
   "outputs": [],
   "source": []
  },
  {
   "cell_type": "markdown",
   "metadata": {},
   "source": [
    "**Save** the series to a file"
   ]
  },
  {
   "cell_type": "code",
   "execution_count": null,
   "metadata": {
    "collapsed": true
   },
   "outputs": [],
   "source": []
  },
  {
   "cell_type": "markdown",
   "metadata": {},
   "source": [
    "**Create** a multi index Series where the index is composed of colours and integers, and the values are random numbers from 0 to 1\n",
    "https://pandas.pydata.org/pandas-docs/stable/advanced.html"
   ]
  },
  {
   "cell_type": "code",
   "execution_count": null,
   "metadata": {},
   "outputs": [],
   "source": []
  },
  {
   "cell_type": "markdown",
   "metadata": {},
   "source": [
    "**Find** sum by integer and colour indices"
   ]
  },
  {
   "cell_type": "code",
   "execution_count": null,
   "metadata": {},
   "outputs": [],
   "source": []
  },
  {
   "cell_type": "markdown",
   "metadata": {},
   "source": [
    "**Rewrite** Shakespeare TF/IDF calculations with Pandas using multi index for words and documents"
   ]
  },
  {
   "cell_type": "code",
   "execution_count": null,
   "metadata": {
    "collapsed": true
   },
   "outputs": [],
   "source": [
    "#**"
   ]
  }
 ],
 "metadata": {
  "kernelspec": {
   "display_name": "Python 3",
   "language": "python",
   "name": "python3"
  },
  "language_info": {
   "codemirror_mode": {
    "name": "ipython",
    "version": 3
   },
   "file_extension": ".py",
   "mimetype": "text/x-python",
   "name": "python",
   "nbconvert_exporter": "python",
   "pygments_lexer": "ipython3",
   "version": "3.6.3"
  }
 },
 "nbformat": 4,
 "nbformat_minor": 2
}
