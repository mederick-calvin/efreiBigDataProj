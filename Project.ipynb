{
 "cells": [
  {
   "cell_type": "code",
   "execution_count": 1,
   "metadata": {},
   "outputs": [
    {
     "name": "stdout",
     "output_type": "stream",
     "text": [
      "downloading with urllib\n",
      "Done !\n",
      "\n"
     ]
    }
   ],
   "source": [
    "import pandas as pd\n",
    "import numpy as np\n",
    "import matplotlib.pyplot as plt\n",
    "import urllib.request, urllib.parse, urllib.error\n",
    "\n",
    "url = \"https://data.enedis.fr/explore/dataset/consommation-electrique-par-secteur-dactivite-commune/download/?format=csv&refine.annee=2016&timezone=Europe/Berlin&use_labels_for_header=true\"\n",
    "file_name =\"consommation-electrique-par-secteur-dactivite-commune.csv\"\n",
    "\n",
    "print(\"downloading with urllib\")\n",
    "urllib.request.urlretrieve(url, file_name)\n",
    "local_filename, headers = urllib.request.urlretrieve(url)\n",
    "print(\"Done !\\n\")"
   ]
  },
  {
   "cell_type": "code",
   "execution_count": 38,
   "metadata": {},
   "outputs": [
    {
     "data": {
      "text/html": [
       "<div>\n",
       "<style scoped>\n",
       "    .dataframe tbody tr th:only-of-type {\n",
       "        vertical-align: middle;\n",
       "    }\n",
       "\n",
       "    .dataframe tbody tr th {\n",
       "        vertical-align: top;\n",
       "    }\n",
       "\n",
       "    .dataframe thead th {\n",
       "        text-align: right;\n",
       "    }\n",
       "</style>\n",
       "<table border=\"1\" class=\"dataframe\">\n",
       "  <thead>\n",
       "    <tr style=\"text-align: right;\">\n",
       "      <th></th>\n",
       "      <th>Année</th>\n",
       "      <th>Nom commune</th>\n",
       "      <th>Code département</th>\n",
       "      <th>Conso moyenne Résidentiel (MWh)</th>\n",
       "      <th>Nb sites Industrie</th>\n",
       "      <th>Taux de logements collectifs</th>\n",
       "    </tr>\n",
       "  </thead>\n",
       "  <tbody>\n",
       "    <tr>\n",
       "      <th>0</th>\n",
       "      <td>2016</td>\n",
       "      <td>Seyre</td>\n",
       "      <td>31</td>\n",
       "      <td>8.279034</td>\n",
       "      <td>0</td>\n",
       "      <td>1.879739</td>\n",
       "    </tr>\n",
       "    <tr>\n",
       "      <th>1</th>\n",
       "      <td>2016</td>\n",
       "      <td>Étreval</td>\n",
       "      <td>54</td>\n",
       "      <td>NaN</td>\n",
       "      <td>0</td>\n",
       "      <td>0.000000</td>\n",
       "    </tr>\n",
       "    <tr>\n",
       "      <th>2</th>\n",
       "      <td>2016</td>\n",
       "      <td>Gensac-de-Boulogne</td>\n",
       "      <td>31</td>\n",
       "      <td>4.507103</td>\n",
       "      <td>0</td>\n",
       "      <td>0.000000</td>\n",
       "    </tr>\n",
       "    <tr>\n",
       "      <th>3</th>\n",
       "      <td>2016</td>\n",
       "      <td>Senlisse</td>\n",
       "      <td>78</td>\n",
       "      <td>9.060842</td>\n",
       "      <td>0</td>\n",
       "      <td>7.661610</td>\n",
       "    </tr>\n",
       "    <tr>\n",
       "      <th>4</th>\n",
       "      <td>2016</td>\n",
       "      <td>Lapte</td>\n",
       "      <td>43</td>\n",
       "      <td>4.392607</td>\n",
       "      <td>3</td>\n",
       "      <td>7.088847</td>\n",
       "    </tr>\n",
       "  </tbody>\n",
       "</table>\n",
       "</div>"
      ],
      "text/plain": [
       "   Année         Nom commune  Code département  \\\n",
       "0   2016               Seyre                31   \n",
       "1   2016             Étreval                54   \n",
       "2   2016  Gensac-de-Boulogne                31   \n",
       "3   2016            Senlisse                78   \n",
       "4   2016               Lapte                43   \n",
       "\n",
       "   Conso moyenne Résidentiel (MWh)  Nb sites Industrie  \\\n",
       "0                         8.279034                   0   \n",
       "1                              NaN                   0   \n",
       "2                         4.507103                   0   \n",
       "3                         9.060842                   0   \n",
       "4                         4.392607                   3   \n",
       "\n",
       "   Taux de logements collectifs  \n",
       "0                      1.879739  \n",
       "1                      0.000000  \n",
       "2                      0.000000  \n",
       "3                      7.661610  \n",
       "4                      7.088847  "
      ]
     },
     "execution_count": 38,
     "metadata": {},
     "output_type": "execute_result"
    }
   ],
   "source": [
    "# Download and print some cells\n",
    "import urllib.request, urllib.parse, urllib.error\n",
    "import pandas as pd\n",
    "df = pd.read_csv(\"consommation-electrique-par-secteur-dactivite-commune.csv\", sep=\";\", usecols=['Année','Code département','Nom commune', 'Nb sites Industrie','Taux de logements collectifs', 'Conso moyenne Résidentiel (MWh)'])\n",
    "df.head(5)"
   ]
  },
  {
   "cell_type": "code",
   "execution_count": 39,
   "metadata": {},
   "outputs": [
    {
     "name": "stdout",
     "output_type": "stream",
     "text": [
      "Échirolles (38130) - Appartement 4 pièces, 85 m²\n",
      "Grenoble (38000) - Appartement 4 pièces, 80 m²\n",
      "Grenoble (38000) - Appartement 4 pièces, 118 m²\n",
      "Uzer (07110) - Maison 5 pièces, 128 m²\n",
      "Bourgneuf-en-Retz (44580) - Maison 7 pièces, 160 m²\n",
      "Saint-Priest (69800) - Appartement 3 pièces, 66 m²\n",
      "Saint-Etienne (42100) - Appartement 3 pièces, 66 m²\n",
      "Denneville (50580) - Maison 7 pièces, 83 m²\n",
      "Saint-Sauveur-le-Vicomte (50390) - Maison 11 pièces, 240 m²\n",
      "Moncoutant (79320) - Maison 3 pièces, 98 m²\n",
      "Sauveterre-de-Guyenne (33540) - Maison 5 pièces, 120 m²\n",
      "Colombe (38690) - Maison 4 pièces, 79 m²\n",
      "Colombe (38690) - Maison 4 pièces, 89 m²\n",
      "Sermérieu (38510) - Maison 4 pièces, 80 m²\n",
      "Vignieu (38890) - Maison 4 pièces, 83 m²\n",
      "Vézeronce-Curtin (38510) - Maison 5 pièces, 105 m²\n",
      "Le Puy-en-Velay (43000) - Maison 4 pièces, 90 m²\n",
      "Coubon (43700) - Maison 5 pièces, 120 m²\n",
      "Polignac (43000) - Terrain, 1200 m²\n",
      "Polignac (43000) - Maison 5 pièces, 120 m²\n",
      "Saint-Germain-Laprade (43700) - Maison 4 pièces, 90 m²\n",
      "Caumont (27310) - Maison 6 pièces, 115 m²\n",
      "La Vaupalière (76150) - Maison 6 pièces, 110 m²\n",
      "Fontaine-le-Bourg (76690) - Maison 6 pièces, 110 m²\n",
      "Auffay (76720) - Maison 5 pièces, 110 m²\n",
      "Boos (76520) - Maison 6 pièces, 110 m²\n",
      "Hénouville (76840) - Maison 6 pièces, 110 m²\n",
      "Barentin (76360) - Maison 5 pièces, 115 m²\n",
      "La Vaupalière (76150) - Maison 6 pièces, 110 m²\n",
      "Ymare (76520) - Maison 6 pièces, 110 m²\n",
      "Bourg-Achard (27310) - Maison 5 pièces, 95 m²\n",
      "Caumont (27310) - Maison 6 pièces, 115 m²\n",
      "Fontaine-le-Bourg (76690) - Maison 5 pièces, 100 m²\n",
      "La Vaupalière (76150) - Maison 6 pièces, 110 m²\n",
      "Boos (76520) - Maison 5 pièces, 110 m²\n",
      "Saint-Mars-du-Désert (44850) - Maison 5 pièces, 109 m²\n",
      "Donges (44480) - Maison 5 pièces, 109 m²\n",
      "Nort-sur-Erdre (44390) - Maison 4 pièces, 100 m²\n",
      "Oudon (44521) - Maison 5 pièces, 109 m²\n",
      "Gorges (44190) - Maison 5 pièces, 109 m²\n",
      "Corcoué-sur-Logne (44650) - Maison 5 pièces, 109 m²\n",
      "Lavernat (72500) - Maison 5 pièces, 90 m²\n",
      "Préval (72400) - Maison 5 pièces, 90 m²\n",
      "Marçon (72340) - Maison 5 pièces, 103 m²\n",
      "Luché-Pringé (72800) - Maison 5 pièces, 110 m²\n",
      "Pontvallain (72510) - Maison 5 pièces, 93 m²\n",
      "Neuville-sur-Sarthe (72190) - Maison 5 pièces, 90 m²\n",
      "Oizé (72330) - Maison 5 pièces, 80 m²\n",
      "Le Mans (72000) - Maison 6 pièces, 107 m²\n",
      "Le Mans (72000) - Maison 6 pièces, 90 m²\n",
      "Enter a ZipCode among all of them: 87350\n"
     ]
    }
   ],
   "source": [
    "# Parse an XML File\n",
    "# ---------------------\n",
    "\n",
    "import feedparser\n",
    "\n",
    "#import Keyboard\n",
    "# Function to fetch the rss feed and return the parsed RSS\n",
    "def parseRSS( rss_url ):\n",
    "    return feedparser.parse( rss_url ) \n",
    "    \n",
    "# Function grabs the rss feed headlines (titles) and returns them as a list\n",
    "def getHeadlines( rss_url ):\n",
    "    headlines = []\n",
    "    \n",
    "    feed = parseRSS( rss_url )\n",
    "    for newsitem in feed['items']:\n",
    "        headlines.append(newsitem['title'])\n",
    "    \n",
    "    return headlines\n",
    "\n",
    "def find_between_r( s, first, last ):\n",
    "    try:\n",
    "        start = s.rindex( first ) + len( first )\n",
    "        end = s.rindex( last, start )\n",
    "        return s[start:end]\n",
    "    except ValueError:\n",
    "        return \"\"\n",
    "\n",
    "# A list to hold all headlines\n",
    "allheadlines = []\n",
    " \n",
    "# List of RSS feeds that we will fetch and combine\n",
    "newsurls = {\n",
    "    'rssImmo':           'https://www.paruvendu.fr/pa/rss/default/rssImmo',\n",
    "    #'location-Vacances-rss':        'http://www.location-et-vacances.com/Location-Vacances-rss.html',\n",
    "    #add other rss url hrl ...\n",
    "}\n",
    " \n",
    "# Iterate over the feed urls\n",
    "for key,url in newsurls.items():\n",
    "    # Call getHeadlines() and combine the returned headlines with allheadlines\n",
    "    allheadlines.extend( getHeadlines( url ) )\n",
    "\n",
    "\n",
    "# Iterate over the allheadlines list and print each headline\n",
    "for hl in allheadlines:\n",
    "    print(hl)\n",
    "\n",
    "zipcode = input('Enter a ZipCode among all of them: ')"
   ]
  },
  {
   "cell_type": "code",
   "execution_count": 40,
   "metadata": {},
   "outputs": [
    {
     "name": "stdout",
     "output_type": "stream",
     "text": [
      "ZipCode =  87350\n"
     ]
    },
    {
     "data": {
      "text/plain": [
       "array([<matplotlib.axes._subplots.AxesSubplot object at 0x000002444CB57E48>,\n",
       "       <matplotlib.axes._subplots.AxesSubplot object at 0x000002444CB8F7F0>],\n",
       "      dtype=object)"
      ]
     },
     "execution_count": 40,
     "metadata": {},
     "output_type": "execute_result"
    },
    {
     "data": {
      "image/png": "[encoded data removed]",
      "text/plain": [
       "<matplotlib.figure.Figure at 0x2444c8da470>"
      ]
     },
     "metadata": {},
     "output_type": "display_data"
    },
    {
     "data": {
      "image/png": "[encoded data removed]",
      "text/plain": [
       "<matplotlib.figure.Figure at 0x2444cb572b0>"
      ]
     },
     "metadata": {},
     "output_type": "display_data"
    }
   ],
   "source": [
    "from matplotlib import style\n",
    "%matplotlib inline\n",
    "\n",
    "print('ZipCode = ', zipcode)\n",
    "depcode = zipcode[0:2]\n",
    "\n",
    "#colonnes = ['Code département','Nom commune', 'Nb sites Industrie','Taux de logements collectifs', 'Conso moyenne Résidentiel (MWh)']\n",
    "#r= print(df.loc[(df['Code département'] == depcode) & (df['Nb sites Industrie'] == 0) & (df['Taux de logements collectifs'] < 17),colonnes].head(5))\n",
    "df.boxplot(column=['Nb sites Industrie'],by=['Année'])\n",
    "df['Année'].value_counts().plot.pie()\n",
    "df.head(5).hist(column='Conso moyenne Résidentiel (MWh)',by='Nb sites Industrie')"
   ]
  }
 ],
 "metadata": {
  "kernelspec": {
   "display_name": "Python 3",
   "language": "python",
   "name": "python3"
  },
  "language_info": {
   "codemirror_mode": {
    "name": "ipython",
    "version": 3
   },
   "file_extension": ".py",
   "mimetype": "text/x-python",
   "name": "python",
   "nbconvert_exporter": "python",
   "pygments_lexer": "ipython3",
   "version": "3.6.4"
  }
 },
 "nbformat": 4,
 "nbformat_minor": 2
}
